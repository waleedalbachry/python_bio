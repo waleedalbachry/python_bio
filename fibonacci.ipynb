{
 "cells": [
  {
   "cell_type": "code",
   "execution_count": 21,
   "id": "639ee55e-d349-424f-be30-30476d386fed",
   "metadata": {
    "tags": []
   },
   "outputs": [],
   "source": [
    "#input \n",
    "def get_input():\n",
    "    number = input(\"Enter the number: \")\n",
    "    return int(number)\n",
    "\n",
    "#calculate fibonacci number\n",
    "def calculate_fibonacci(n):\n",
    "    a, b = 0, 1\n",
    "    for i in range(n):\n",
    "        a, b = b, a + b\n",
    "        return a\n",
    "#print fibonacci\n",
    "def print_output(number, fibonacci_number):\n",
    "    print('The Fibonacci number for', number, 'is:', fibonacci_number)\n",
    "\n",
    "#main function to execute script\n",
    "def main():\n",
    "    number = get_input()\n",
    "    fibonacci_number = calculate_fibonacci(number)\n",
    "    print_output(number, fibonacci_number)\n",
    "    if __name__ == '__main__':\n",
    "        main()"
   ]
  },
  {
   "cell_type": "code",
   "execution_count": null,
   "id": "cf18ca58-a357-49a5-92c3-abfccc49b799",
   "metadata": {
    "tags": []
   },
   "outputs": [],
   "source": []
  },
  {
   "cell_type": "code",
   "execution_count": null,
   "id": "6e78044c-9188-4a91-ba16-8e81f67d024d",
   "metadata": {},
   "outputs": [],
   "source": []
  },
  {
   "cell_type": "code",
   "execution_count": 72,
   "id": "850ddcc2-87e2-4f75-bed6-0a036e0f3d24",
   "metadata": {
    "tags": []
   },
   "outputs": [
    {
     "name": "stdout",
     "output_type": "stream",
     "text": [
      "The Fibonacci number for 10 is: 55\n"
     ]
    }
   ],
   "source": [
    "import argparse\n",
    "\n",
    "def fib(position):\n",
    "    \"\"\"Calculate the Fibonacci number at a given position.\"\"\"\n",
    "    a, b = 0, 1\n",
    "    for _ in range(position):\n",
    "        a, b = b, a + b\n",
    "    return a \n",
    "\n",
    "def print_output(position, fibonacci_number, verbose=False):\n",
    "    \"\"\"Print the output.\"\"\"\n",
    "    if verbose:\n",
    "        print('The Fibonacci number for', position, 'is:', fibonacci_number)\n",
    "    else:\n",
    "        print(fibonacci_number) \n",
    "\n",
    "def main(num, verbose=False):\n",
    "    \"\"\"Main function.\"\"\"\n",
    "    fibonacci_number = fib(num)\n",
    "    print_output(num, fibonacci_number, verbose)\n",
    "\n",
    "# Example usage\n",
    "main(10, verbose=True)  # Replace 10 with the desired Fibonacci number position"
   ]
  },
  {
   "cell_type": "code",
   "execution_count": null,
   "id": "4c98e42b-ef05-4dbd-a89c-f240adee2882",
   "metadata": {},
   "outputs": [],
   "source": []
  }
 ],
 "metadata": {
  "kernelspec": {
   "display_name": "Python 3 (ipykernel)",
   "language": "python",
   "name": "python3"
  },
  "language_info": {
   "codemirror_mode": {
    "name": "ipython",
    "version": 3
   },
   "file_extension": ".py",
   "mimetype": "text/x-python",
   "name": "python",
   "nbconvert_exporter": "python",
   "pygments_lexer": "ipython3",
   "version": "3.11.7"
  }
 },
 "nbformat": 4,
 "nbformat_minor": 5
}
