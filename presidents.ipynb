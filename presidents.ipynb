{
 "cells": [
  {
   "cell_type": "code",
   "execution_count": 67,
   "id": "d0116304-e2e4-4b96-90e2-017d5ae0e6d7",
   "metadata": {},
   "outputs": [],
   "source": [
    "from collections import defaultdict \n",
    "import csv \n",
    "\n",
    "#declare our input file\n",
    "input_file = 'presidents.csv'"
   ]
  },
  {
   "cell_type": "code",
   "execution_count": 77,
   "id": "ab6a1a3e-706c-4d37-a901-f1680268b74b",
   "metadata": {
    "tags": []
   },
   "outputs": [],
   "source": [
    "# declare our dictionary; key = president's number, value = president's name\n",
    "presidents = defaultdict(str)\n",
    "\n",
    "# declare our dictionary; key = president name, value = wikipwdia name\n",
    "wikis = defaultdict(str)\n",
    "\n",
    "with open(input_file, 'r') as prez_file:\n",
    "    \n",
    "    # create a csv reader object\n",
    "    reader = csv.reader(prez_file, delimiter=\",\")\n",
    "    \n",
    "    # loop over the file line by line\n",
    "    for line in reader: \n",
    "        # print(type(line))\n",
    "  \n",
    "        \n",
    "        # strip annoying random whitespace from data \n",
    "        num = line[0].strip()\n",
    "        name = line[1].strip()\n",
    "        party = line[5].strip()\n",
    "        wiki = line [2].strip()\n",
    "        \n",
    "        \n",
    "        if(name[0] == 'President'):\n",
    "            continue\n",
    "        else:\n",
    "            # print('--' + name + '--' + party)\n",
    "            presidents[num] = name\n",
    "            wikis[name] = wiki"
   ]
  },
  {
   "cell_type": "code",
   "execution_count": 73,
   "id": "6f7a8365-b2a1-46a3-922b-e133f4765986",
   "metadata": {
    "tags": []
   },
   "outputs": [
    {
     "name": "stdout",
     "output_type": "stream",
     "text": [
      "George Washington\n",
      "Abraham Lincoln\n",
      "Barack Obama\n",
      "Note elected yet\n",
      "George Washington\n"
     ]
    }
   ],
   "source": [
    "# get stuff out of our dictionary\n",
    "print(presidents.get('1'))\n",
    "print(presidents.get('16'))\n",
    "print(presidents.get('44'))\n",
    "print(presidents.get('46', \"Note elected yet\"))\n",
    "print(presidents['1'])"
   ]
  },
  {
   "cell_type": "code",
   "execution_count": 75,
   "id": "2222f1b4-3f4a-456b-8941-fdae20468220",
   "metadata": {
    "tags": []
   },
   "outputs": [
    {
     "name": "stdout",
     "output_type": "stream",
     "text": [
      "President Presidency was President\n",
      "President 1 was George Washington\n",
      "President 2 was John Adams\n",
      "President 3 was Thomas Jefferson\n",
      "President 4 was James Madison\n",
      "President 5 was James Monroe\n",
      "President 6 was John Quincy Adams\n",
      "President 7 was Andrew Jackson\n",
      "President 8 was Martin Van Buren\n",
      "President 9 was William Henry Harrison\n",
      "President 10 was John Tyler\n",
      "President 11 was James K. Polk\n",
      "President 12 was Zachary Taylor\n",
      "President 13 was Millard Fillmore\n",
      "President 14 was Franklin Pierce\n",
      "President 15 was James Buchanan\n",
      "President 16 was Abraham Lincoln\n",
      "President 17 was Andrew Johnson\n",
      "President 18 was Ulysses S. Grant\n",
      "President 19 was Rutherford B. Hayes\n",
      "President 20 was James A. Garfield\n",
      "President 21 was Chester A. Arthur\n",
      "President 22 was Grover Cleveland\n",
      "President 23 was Benjamin Harrison\n",
      "President 24 was Grover Cleveland (2nd term)\n",
      "President 25 was William McKinley\n",
      "President 26 was Theodore Roosevelt\n",
      "President 27 was William Howard Taft\n",
      "President 28 was Woodrow Wilson\n",
      "President 29 was Warren G. Harding\n",
      "President 30 was Calvin Coolidge\n",
      "President 31 was Herbert Hoover\n",
      "President 32 was Franklin D. Roosevelt\n",
      "President 33 was Harry S. Truman\n",
      "President 34 was Dwight D. Eisenhower\n",
      "President 35 was John F. Kennedy\n",
      "President 36 was Lyndon B. Johnson\n",
      "President 37 was Richard Nixon\n",
      "President 38 was Gerald Ford\n",
      "President 39 was Jimmy Carter\n",
      "President 40 was Ronald Reagan\n",
      "President 41 was George H. W. Bush\n",
      "President 42 was Bill Clinton\n",
      "President 43 was George W. Bush\n",
      "President 44 was Barack Obama\n"
     ]
    }
   ],
   "source": [
    "# loop over the dictionary\n",
    "for num in presidents.keys():\n",
    "    print(\"President\", num, \"was\", presidents[num])"
   ]
  },
  {
   "cell_type": "code",
   "execution_count": 59,
   "id": "1cde5fd3-b33d-45b9-8660-1c4a7c2a2a8c",
   "metadata": {
    "tags": []
   },
   "outputs": [
    {
     "name": "stdout",
     "output_type": "stream",
     "text": [
      "President Wikipedia Entry\n",
      "George Washington http://en.wikipedia.org/wiki/George_Washington\n",
      "John Adams http://en.wikipedia.org/wiki/John_Adams\n",
      "Thomas Jefferson http://en.wikipedia.org/wiki/Thomas_Jefferson\n",
      "James Madison http://en.wikipedia.org/wiki/James_Madison\n",
      "James Monroe http://en.wikipedia.org/wiki/James_Monroe\n",
      "John Quincy Adams http://en.wikipedia.org/wiki/John_Quincy_Adams\n",
      "Andrew Jackson http://en.wikipedia.org/wiki/Andrew_Jackson\n",
      "Martin Van Buren http://en.wikipedia.org/wiki/Martin_Van_Buren\n",
      "William Henry Harrison http://en.wikipedia.org/wiki/William_Henry_Harrison\n",
      "John Tyler http://en.wikipedia.org/wiki/John_Tyler\n",
      "James K. Polk http://en.wikipedia.org/wiki/James_K._Polk\n",
      "Zachary Taylor http://en.wikipedia.org/wiki/Zachary_Taylor\n",
      "Millard Fillmore http://en.wikipedia.org/wiki/Millard_Fillmore\n",
      "Franklin Pierce http://en.wikipedia.org/wiki/Franklin_Pierce\n",
      "James Buchanan http://en.wikipedia.org/wiki/James_Buchanan\n",
      "Abraham Lincoln http://en.wikipedia.org/wiki/Abraham_Lincoln\n",
      "Andrew Johnson http://en.wikipedia.org/wiki/Andrew_Johnson\n",
      "Ulysses S. Grant http://en.wikipedia.org/wiki/Ulysses_S._Grant\n",
      "Rutherford B. Hayes http://en.wikipedia.org/wiki/Rutherford_B._Hayes\n",
      "James A. Garfield http://en.wikipedia.org/wiki/James_A._Garfield\n",
      "Chester A. Arthur http://en.wikipedia.org/wiki/Chester_A._Arthur\n",
      "Grover Cleveland http://en.wikipedia.org/wiki/Grover_Cleveland\n",
      "Benjamin Harrison http://en.wikipedia.org/wiki/Benjamin_Harrison\n",
      "Grover Cleveland (2nd term) http://en.wikipedia.org/wiki/Grover_Cleveland\n",
      "William McKinley http://en.wikipedia.org/wiki/William_McKinley\n",
      "Theodore Roosevelt http://en.wikipedia.org/wiki/Theodore_Roosevelt\n",
      "William Howard Taft http://en.wikipedia.org/wiki/William_Howard_Taft\n",
      "Woodrow Wilson http://en.wikipedia.org/wiki/Woodrow_Wilson\n",
      "Warren G. Harding http://en.wikipedia.org/wiki/Warren_G._Harding\n",
      "Calvin Coolidge http://en.wikipedia.org/wiki/Calvin_Coolidge\n",
      "Herbert Hoover http://en.wikipedia.org/wiki/Herbert_Hoover\n",
      "Franklin D. Roosevelt http://en.wikipedia.org/wiki/Franklin_D._Roosevelt\n",
      "Harry S. Truman http://en.wikipedia.org/wiki/Harry_S._Truman\n",
      "Dwight D. Eisenhower http://en.wikipedia.org/wiki/Dwight_D._Eisenhower\n",
      "John F. Kennedy http://en.wikipedia.org/wiki/John_F._Kennedy\n",
      "Lyndon B. Johnson http://en.wikipedia.org/wiki/Lyndon_B._Johnson\n",
      "Richard Nixon http://en.wikipedia.org/wiki/Richard_Nixon\n",
      "Gerald Ford http://en.wikipedia.org/wiki/Gerald_Ford\n",
      "Jimmy Carter http://en.wikipedia.org/wiki/Jimmy_Carter\n",
      "Ronald Reagan http://en.wikipedia.org/wiki/Ronald_Reagan\n",
      "George H. W. Bush http://en.wikipedia.org/wiki/George_H._W._Bush\n",
      "Bill Clinton http://en.wikipedia.org/wiki/Bill_Clinton\n",
      "George W. Bush http://en.wikipedia.org/wiki/George_W._Bush\n",
      "Barack Obama http://en.wikipedia.org/wiki/Barack_Obama\n"
     ]
    }
   ],
   "source": [
    "# a little bit better way to loop over a dictionary\n",
    "for name, wiki in wikis.items():\n",
    "    print(name, wiki)"
   ]
  },
  {
   "cell_type": "code",
   "execution_count": null,
   "id": "ce5d14a8-48ab-4e9f-aa33-e194fe35d4fb",
   "metadata": {},
   "outputs": [],
   "source": []
  }
 ],
 "metadata": {
  "kernelspec": {
   "display_name": "Python 3 (ipykernel)",
   "language": "python",
   "name": "python3"
  },
  "language_info": {
   "codemirror_mode": {
    "name": "ipython",
    "version": 3
   },
   "file_extension": ".py",
   "mimetype": "text/x-python",
   "name": "python",
   "nbconvert_exporter": "python",
   "pygments_lexer": "ipython3",
   "version": "3.11.7"
  }
 },
 "nbformat": 4,
 "nbformat_minor": 5
}
