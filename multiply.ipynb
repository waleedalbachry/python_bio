{
 "cells": [
  {
   "cell_type": "code",
   "execution_count": null,
   "id": "66d0c697-9475-418d-ad93-e719dd5c669e",
   "metadata": {},
   "outputs": [],
   "source": []
  },
  {
   "cell_type": "code",
   "execution_count": 19,
   "id": "891e5945-cf38-456c-b649-46ab6972018b",
   "metadata": {
    "tags": []
   },
   "outputs": [
    {
     "name": "stdin",
     "output_type": "stream",
     "text": [
      "Enter the size of your table 10\n"
     ]
    },
    {
     "name": "stdout",
     "output_type": "stream",
     "text": [
      "   1   2   3   4   5   6   7   8   9  10\n",
      "   2   4   6   8  10  12  14  16  18  20\n",
      "   3   6   9  12  15  18  21  24  27  30\n",
      "   4   8  12  16  20  24  28  32  36  40\n",
      "   5  10  15  20  25  30  35  40  45  50\n",
      "   6  12  18  24  30  36  42  48  54  60\n",
      "   7  14  21  28  35  42  49  56  63  70\n",
      "   8  16  24  32  40  48  56  64  72  80\n",
      "   9  18  27  36  45  54  63  72  81  90\n",
      "  10  20  30  40  50  60  70  80  90 100\n"
     ]
    }
   ],
   "source": [
    "\n",
    "def get_input():\n",
    "    # ask for the size of the multiplication matrix \n",
    "    size = int(input(\"Enter the size of your table\"))\n",
    "    \n",
    "    return size\n",
    "\n",
    "def print_table(n):\n",
    "    \n",
    "    # calculate how many spaces we'll need for the output of each cell in the matrix\n",
    "    cell_width = len(str((n * n))) + 1\n",
    "    \n",
    "    # nested for loop to calculate i * j\n",
    "    for i in range(1,n+1):\n",
    "        for j in range(1,n+1):\n",
    "            # nice formatted print statement for each cell\n",
    "            print (\"{:>{cell_width}}\".format(i * j, cell_width = cell_width), end='')\n",
    "            # print (\"{:6d}\".format(i * j), end='')\n",
    "        \n",
    "        # print a newline character at the end of each row\n",
    "        print()\n",
    "\n",
    "def main():\n",
    "    input_num = get_input()\n",
    "    \n",
    "    print_table(input_num)\n",
    "    \n",
    "# set the environment for this script \n",
    "# is it main, or is this a module being called by another script \n",
    "if __name__ == '__main__':\n",
    "    main()\n"
   ]
  },
  {
   "cell_type": "code",
   "execution_count": 16,
   "id": "4e4987e6-8881-4cd5-823d-4e68fe410e79",
   "metadata": {
    "tags": []
   },
   "outputs": [
    {
     "name": "stdin",
     "output_type": "stream",
     "text": [
      "Enter the size of your table 10\n"
     ]
    },
    {
     "name": "stdout",
     "output_type": "stream",
     "text": [
      "10 4\n"
     ]
    },
    {
     "ename": "NameError",
     "evalue": "name 'cell_width' is not defined",
     "output_type": "error",
     "traceback": [
      "\u001b[0;31m---------------------------------------------------------------------------\u001b[0m",
      "\u001b[0;31mNameError\u001b[0m                                 Traceback (most recent call last)",
      "Cell \u001b[0;32mIn[16], line 33\u001b[0m\n\u001b[1;32m     30\u001b[0m \u001b[38;5;66;03m# set the environment for this script \u001b[39;00m\n\u001b[1;32m     31\u001b[0m \u001b[38;5;66;03m# is it main, or is this a module being called by another script \u001b[39;00m\n\u001b[1;32m     32\u001b[0m \u001b[38;5;28;01mif\u001b[39;00m \u001b[38;5;18m__name__\u001b[39m \u001b[38;5;241m==\u001b[39m \u001b[38;5;124m'\u001b[39m\u001b[38;5;124m__main__\u001b[39m\u001b[38;5;124m'\u001b[39m:\n\u001b[0;32m---> 33\u001b[0m     main()\n",
      "Cell \u001b[0;32mIn[16], line 28\u001b[0m, in \u001b[0;36mmain\u001b[0;34m()\u001b[0m\n\u001b[1;32m     25\u001b[0m input_num, width \u001b[38;5;241m=\u001b[39m get_input()\n\u001b[1;32m     26\u001b[0m \u001b[38;5;28mprint\u001b[39m(input_num, width)\n\u001b[0;32m---> 28\u001b[0m print_table(input_num)\n",
      "Cell \u001b[0;32mIn[16], line 18\u001b[0m, in \u001b[0;36mprint_table\u001b[0;34m(n)\u001b[0m\n\u001b[1;32m     15\u001b[0m \u001b[38;5;28;01mfor\u001b[39;00m i \u001b[38;5;129;01min\u001b[39;00m \u001b[38;5;28mrange\u001b[39m(\u001b[38;5;241m1\u001b[39m,n\u001b[38;5;241m+\u001b[39m\u001b[38;5;241m1\u001b[39m):\n\u001b[1;32m     16\u001b[0m     \u001b[38;5;28;01mfor\u001b[39;00m j \u001b[38;5;129;01min\u001b[39;00m \u001b[38;5;28mrange\u001b[39m(\u001b[38;5;241m1\u001b[39m,n\u001b[38;5;241m+\u001b[39m\u001b[38;5;241m1\u001b[39m):\n\u001b[1;32m     17\u001b[0m         \u001b[38;5;66;03m# nice formatted print statement for each cell\u001b[39;00m\n\u001b[0;32m---> 18\u001b[0m         \u001b[38;5;28mprint\u001b[39m (\u001b[38;5;124m\"\u001b[39m\u001b[38;5;124m{\u001b[39m\u001b[38;5;124m:>\u001b[39m\u001b[38;5;132;01m{cell_width}\u001b[39;00m\u001b[38;5;124m}\u001b[39m\u001b[38;5;124m\"\u001b[39m\u001b[38;5;241m.\u001b[39mformat(i \u001b[38;5;241m*\u001b[39m j, cell_width \u001b[38;5;241m=\u001b[39m cell_width), end\u001b[38;5;241m=\u001b[39m\u001b[38;5;124m'\u001b[39m\u001b[38;5;124m'\u001b[39m)\n\u001b[1;32m     19\u001b[0m         \u001b[38;5;66;03m# print (\"{:6d}\".format(i * j), end='')\u001b[39;00m\n\u001b[1;32m     20\u001b[0m     \n\u001b[1;32m     21\u001b[0m     \u001b[38;5;66;03m# print a newline character at the end of each row\u001b[39;00m\n\u001b[1;32m     22\u001b[0m     \u001b[38;5;28mprint\u001b[39m()\n",
      "\u001b[0;31mNameError\u001b[0m: name 'cell_width' is not defined"
     ]
    }
   ],
   "source": [
    "def get_input():\n",
    "    # ask for the size of the multiplication matrix \n",
    "    size = int(input(\"Enter the size of your table\"))\n",
    "    \n",
    "    # calculate how many spaces we'll need for the output of each cell in the matrix\n",
    "    cell_width = len(str((size * size))) + 1\n",
    "    \n",
    "    return size, cell_width\n",
    "\n",
    "def print_table(n):\n",
    "    \n",
    "    \n",
    "    \n",
    "    # nested for loop to calculate i * j\n",
    "    for i in range(1,n+1):\n",
    "        for j in range(1,n+1):\n",
    "            # nice formatted print statement for each cell\n",
    "            print (\"{:>{cell_width}}\".format(i * j, cell_width = cell_width), end='')\n",
    "            # print (\"{:6d}\".format(i * j), end='')\n",
    "        \n",
    "        # print a newline character at the end of each row\n",
    "        print()\n",
    "\n",
    "def main():\n",
    "    input_num, width = get_input()\n",
    "    print(input_num, width)\n",
    "    \n",
    "    print_table(input_num)\n",
    "    \n",
    "# set the environment for this script \n",
    "# is it main, or is this a module being called by another script \n",
    "if __name__ == '__main__':\n",
    "    main()"
   ]
  },
  {
   "cell_type": "code",
   "execution_count": null,
   "id": "9200caf0-4083-4237-a2a7-2ffce2bca6dc",
   "metadata": {},
   "outputs": [],
   "source": []
  },
  {
   "cell_type": "code",
   "execution_count": null,
   "id": "bb7ba747-3ab7-40f7-9ca8-1e9da960427d",
   "metadata": {},
   "outputs": [],
   "source": []
  }
 ],
 "metadata": {
  "kernelspec": {
   "display_name": "Python 3 (ipykernel)",
   "language": "python",
   "name": "python3"
  },
  "language_info": {
   "codemirror_mode": {
    "name": "ipython",
    "version": 3
   },
   "file_extension": ".py",
   "mimetype": "text/x-python",
   "name": "python",
   "nbconvert_exporter": "python",
   "pygments_lexer": "ipython3",
   "version": "3.11.7"
  }
 },
 "nbformat": 4,
 "nbformat_minor": 5
}
