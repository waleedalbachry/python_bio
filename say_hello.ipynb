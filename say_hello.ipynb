{
 "cells": [
  {
   "cell_type": "code",
   "execution_count": 15,
   "id": "aac1823e-b0f2-4456-96f3-8e1ce35678ef",
   "metadata": {
    "tags": []
   },
   "outputs": [
    {
     "ename": "ModuleNotFoundError",
     "evalue": "No module named 'say_hello'",
     "output_type": "error",
     "traceback": [
      "\u001b[0;31m---------------------------------------------------------------------------\u001b[0m",
      "\u001b[0;31mModuleNotFoundError\u001b[0m                       Traceback (most recent call last)",
      "Cell \u001b[0;32mIn[15], line 1\u001b[0m\n\u001b[0;32m----> 1\u001b[0m \u001b[38;5;28;01mimport\u001b[39;00m \u001b[38;5;21;01msay_hello\u001b[39;00m\n\u001b[1;32m      3\u001b[0m \u001b[38;5;28;01mdef\u001b[39;00m \u001b[38;5;21mmain\u001b[39m():\n\u001b[1;32m      4\u001b[0m     name \u001b[38;5;241m=\u001b[39m \u001b[38;5;28minput\u001b[39m(\u001b[38;5;124m\"\u001b[39m\u001b[38;5;124mEnter a name: \u001b[39m\u001b[38;5;124m\"\u001b[39m)\n",
      "\u001b[0;31mModuleNotFoundError\u001b[0m: No module named 'say_hello'"
     ]
    }
   ],
   "source": [
    "import say_hello\n",
    "\n",
    "def main():\n",
    "    name = input(\"Enter a name: \")\n",
    "    say_hello.greeting(name)\n",
    "    \n",
    "    fav = input(\"What's your favorite? \")\n",
    "    say_hello.favorite(fav)\n",
    "    \n",
    "# set the enviroment for this script\n",
    "# is it main, or is this a module being called by another script \n",
    "if __name__ == '__main__':\n",
    "    main()"
   ]
  },
  {
   "cell_type": "code",
   "execution_count": 17,
   "id": "5758807a-6792-4e9e-9f48-d354bdb2a532",
   "metadata": {
    "tags": []
   },
   "outputs": [
    {
     "name": "stdout",
     "output_type": "stream",
     "text": [
      "this is main in|\n"
     ]
    }
   ],
   "source": [
    "def greeting (input_name):\n",
    "    print('hello,', input_name, 'have a nice day.')\n",
    "    \n",
    "def favoite(input_fav):\n",
    "    print('my favorite is:', input_fav)\n",
    "    \n",
    "def main():\n",
    "    print('this is main in|')\n",
    "    \n",
    "# set the enviroment fpr this script \n",
    "# is it main, or is this a module being called by another script\n",
    "if __name__ == '__main__':\n",
    "    main()"
   ]
  },
  {
   "cell_type": "code",
   "execution_count": null,
   "id": "d7e1642e-c614-4e66-b64f-935b8a91f9e8",
   "metadata": {},
   "outputs": [],
   "source": []
  }
 ],
 "metadata": {
  "kernelspec": {
   "display_name": "Python 3 (ipykernel)",
   "language": "python",
   "name": "python3"
  },
  "language_info": {
   "codemirror_mode": {
    "name": "ipython",
    "version": 3
   },
   "file_extension": ".py",
   "mimetype": "text/x-python",
   "name": "python",
   "nbconvert_exporter": "python",
   "pygments_lexer": "ipython3",
   "version": "3.11.7"
  }
 },
 "nbformat": 4,
 "nbformat_minor": 5
}
